{
 "cells": [
  {
   "cell_type": "code",
   "execution_count": 182,
   "metadata": {},
   "outputs": [],
   "source": [
    "from sklearn.datasets import load_iris\n",
    "from sklearn.preprocessing import StandardScaler\n",
    "from keras.utils import to_categorical\n",
    "import numpy as np"
   ]
  },
  {
   "cell_type": "code",
   "execution_count": 183,
   "metadata": {
    "collapsed": true
   },
   "outputs": [],
   "source": [
    "# LOAD DATA\n",
    "data = load_iris()\n",
    "X = data.data[:-20]\n",
    "X = StandardScaler().fit_transform(X)\n",
    "y = to_categorical(data.target[:-20])\n",
    "# only 20 samples because we have a small dataset\n",
    "X_test = data.data[-20:]\n",
    "X_test = StandardScaler().fit_transform(X_test)\n",
    "y_test = to_categorical(data.target[-20:])\n",
    "\n",
    "# y = y.reshape(-1,1)\n"
   ]
  },
  {
   "cell_type": "code",
   "execution_count": 191,
   "metadata": {},
   "outputs": [
    {
     "name": "stderr",
     "output_type": "stream",
     "text": [
      "/Library/Frameworks/Python.framework/Versions/3.5/lib/python3.5/site-packages/ipykernel_launcher.py:18: RuntimeWarning: invalid value encountered in true_divide\n"
     ]
    }
   ],
   "source": [
    "h_neurons = 8 # # of hidden neurons\n",
    "eta = 0.01 # learning rate\n",
    "iters = 250 # training iterations\n",
    "\n",
    "# INIT WEIGHTS  - add a 1 to input X to avoid bias\n",
    "w1 = np.random.rand(np.shape(X)[1], h_neurons)\n",
    "w2 = np.random.rand(h_neurons, 3)\n",
    "\n",
    "def sigmoid(x, deriv=False):\n",
    "    if deriv:\n",
    "        return sigmoid(x)*(1-sigmoid(x))\n",
    "    else:\n",
    "        return 1/(1+np.exp(-x))\n",
    "    \n",
    "def softmax(x):\n",
    "    \"\"\"Compute softmax values for each sets of scores in x.\"\"\"\n",
    "    e_x = np.exp(x - np.max(x))\n",
    "    return e_x / e_x.sum(axis=0);\n",
    "\n",
    "# BACKPROP\n",
    "for i in range(0,100):\n",
    "    # Feed forward\n",
    "    z1 = X.dot(w1)\n",
    "    a1 = sigmoid(z1)\n",
    "    z2 = a1.dot(w2)\n",
    "    y_hat = softmax(z2)\n",
    "    \n",
    "    delta3 = (y_hat - y) \n",
    "    dJdW2 = a1.T.dot(delta3) \n",
    "    delta2 = delta3.dot(w2.T) * sigmoid(z1, deriv=True)\n",
    "    dJdW1 = (X.T.dot(delta2))\n",
    "    w1 = w1 - (0.1*dJdW1)\n",
    "    w2 = w2 - (0.1*dJdW2)\n"
   ]
  },
  {
   "cell_type": "code",
   "execution_count": 186,
   "metadata": {},
   "outputs": [
    {
     "data": {
      "text/plain": [
       "array([0, 0, 0, 0, 0, 0, 0, 0, 0, 0, 0, 0, 0, 0, 0, 0, 0, 0, 0, 0])"
      ]
     },
     "execution_count": 186,
     "metadata": {},
     "output_type": "execute_result"
    }
   ],
   "source": [
    "z1 = X_test.dot(w1)\n",
    "a1 = sigmoid(z1)\n",
    "z2 = a1.dot(w2)\n",
    "y_hat = softmax(z2)\n",
    "np.argmax(y_hat, axis=1)"
   ]
  },
  {
   "cell_type": "code",
   "execution_count": null,
   "metadata": {
    "collapsed": true
   },
   "outputs": [],
   "source": []
  }
 ],
 "metadata": {
  "kernelspec": {
   "display_name": "Python 3",
   "language": "python",
   "name": "python3"
  },
  "language_info": {
   "codemirror_mode": {
    "name": "ipython",
    "version": 3
   },
   "file_extension": ".py",
   "mimetype": "text/x-python",
   "name": "python",
   "nbconvert_exporter": "python",
   "pygments_lexer": "ipython3",
   "version": "3.5.2"
  }
 },
 "nbformat": 4,
 "nbformat_minor": 2
}
