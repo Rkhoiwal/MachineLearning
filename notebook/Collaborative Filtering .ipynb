{
 "cells": [
  {
   "cell_type": "code",
   "execution_count": 1,
   "metadata": {
    "collapsed": true
   },
   "outputs": [],
   "source": [
    "import numpy as np"
   ]
  },
  {
   "cell_type": "code",
   "execution_count": 28,
   "metadata": {},
   "outputs": [
    {
     "name": "stdout",
     "output_type": "stream",
     "text": [
      "[[1 0 1 1 1]\n",
      " [1 1 1 1 1]\n",
      " [1 1 1 1 1]\n",
      " [1 1 1 1 1]\n",
      " [1 1 1 1 1]\n",
      " [1 1 0 1 1]\n",
      " [0 1 1 1 1]\n",
      " [1 1 1 1 0]\n",
      " [1 1 1 0 1]\n",
      " [1 1 1 1 1]]\n",
      "[[1 1 0 1 1 1]\n",
      " [0 1 1 1 1 1]\n",
      " [0 1 1 1 1 1]\n",
      " [0 1 1 1 1 1]\n",
      " [1 1 1 1 1 1]\n",
      " [0 1 1 0 1 1]\n",
      " [0 0 1 1 1 1]\n",
      " [0 1 1 1 1 0]\n",
      " [0 1 1 1 0 1]\n",
      " [0 1 1 1 1 1]]\n"
     ]
    }
   ],
   "source": [
    "num_food = 10\n",
    "num_users = 5\n",
    "\n",
    "np.random.seed(0)\n",
    "ratings = np.random.randint(11, size = (num_food, num_users))\n",
    "\n",
    "did_rate = (ratings != 0) * 1\n",
    "\n",
    "macks_ratings = np.zeros((num_food, 1))\n",
    "macks_ratings[0] = 2\n",
    "macks_ratings[4] = 10\n",
    "\n",
    "ratings = np.append(macks_ratings, ratings, axis=1)\n",
    "print(did_rate)\n",
    "did_rate = np.append((macks_ratings != 0) * 1, did_rate, axis=1)\n",
    "print(did_rate)"
   ]
  },
  {
   "cell_type": "code",
   "execution_count": 56,
   "metadata": {
    "collapsed": true
   },
   "outputs": [],
   "source": [
    "def normalize_ratings(ratings, did_rate):\n",
    "    num_movies = ratings.shape[0]\n",
    "    \n",
    "    ratings_mean = np.zeros(shape = (num_movies, 1))\n",
    "    ratings_norm = np.zeros(shape = ratings.shape)\n",
    "    \n",
    "    for i in range(num_movies): \n",
    "        # Get all the indexes where there is a 1\n",
    "        idx = np.where(did_rate[i] == 1)[0]\n",
    "        \n",
    "        #  Calculate mean rating of ith movie only from user's that gave a rating\n",
    "        ratings_mean[i] = np.mean(ratings[i, idx])\n",
    "        ratings_norm[i, idx] = ratings[i, idx] - ratings_mean[i]\n",
    "    \n",
    "    return ratings_norm, ratings_mean"
   ]
  },
  {
   "cell_type": "code",
   "execution_count": 60,
   "metadata": {},
   "outputs": [],
   "source": [
    "ratings_norm, ratings_mean = normalize_ratings(ratings, did_rate)"
   ]
  },
  {
   "cell_type": "code",
   "execution_count": null,
   "metadata": {
    "collapsed": true
   },
   "outputs": [],
   "source": []
  }
 ],
 "metadata": {
  "kernelspec": {
   "display_name": "Python 2",
   "language": "python",
   "name": "python2"
  },
  "language_info": {
   "codemirror_mode": {
    "name": "ipython",
    "version": 2
   },
   "file_extension": ".py",
   "mimetype": "text/x-python",
   "name": "python",
   "nbconvert_exporter": "python",
   "pygments_lexer": "ipython2",
   "version": "2.7.13"
  }
 },
 "nbformat": 4,
 "nbformat_minor": 2
}
